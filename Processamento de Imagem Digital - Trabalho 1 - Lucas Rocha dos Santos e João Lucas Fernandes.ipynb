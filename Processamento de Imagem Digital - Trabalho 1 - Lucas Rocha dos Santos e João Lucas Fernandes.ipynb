{
 "cells": [
  {
   "cell_type": "markdown",
   "metadata": {},
   "source": [
    "### Libs e  Funções ###"
   ]
  },
  {
   "cell_type": "code",
   "execution_count": 17,
   "metadata": {},
   "outputs": [],
   "source": [
    "import matplotlib.pyplot as plt\n",
    "import numpy as np\n",
    "import math\n",
    "import cv2\n",
    "import copy\n",
    "import sys\n",
    "from scipy import stats\n",
    "import random\n",
    "\n",
    "def save_image(data):\n",
    "    return np.asarray(np.clip(data, 0, 255), dtype='uint8')\n",
    "\n",
    "\n",
    "def incbri(img,percnt):\n",
    "    nimg = img.copy();\n",
    "    for i in range(len(nimg)):\n",
    "        for j in range(len(nimg[0])):\n",
    "            for k in range(len(nimg[0][0])):\n",
    "                value = (percnt/100)*nimg[i][j][k];\n",
    "                nimg[i][j][k] = min(nimg[i][j][k] + value, 255);\n",
    "    return nimg\n",
    "\n",
    "def neg(img):\n",
    "    nimg = img.copy();\n",
    "    for i in range(len(nimg)):\n",
    "        for j in range(len(nimg[0])):\n",
    "            for k in range(len(nimg[0][0])):\n",
    "                nimg[i][j][k] = 255 - nimg[i][j][k];\n",
    "    return nimg\n",
    "#Histograma\n",
    "\n",
    "def histg(img):\n",
    "    nimg = img.copy();\n",
    "    bgr = np.zeros(256*3);  \n",
    "    for i in range(len(nimg)):\n",
    "        for j in range(len(nimg[0])):\n",
    "            for k in range(len(nimg[0][0])):\n",
    "                bgr[nimg[i][j][k] + (k*256)] += 1; \n",
    "    ag = open(\"global_hist.txt\", \"w+\")\n",
    "    bgr = save_image(bgr);\n",
    "    ag.write(str(bgr))\n",
    "    ag.close()\n",
    "    return bgr\n",
    "\n",
    "def histlocal(img):\n",
    "    a = int(input(\"Entrada: \")) # Number of divisions in a format axa\n",
    "    n, m = len(img)//a, len(img[0])//a # Size of image\n",
    "\n",
    "    g = [[0 for i in range(256)] for j in range(a * a)]\n",
    "    r = [[0 for i in range(256)] for j in range(a * a)]\n",
    "    b = [[0 for i in range(256)] for j in range(a * a)]\n",
    "\n",
    "    for i in range(len(img)):\n",
    "        for j in range(len(img[i])):\n",
    "            for k in range(len(img[i][j])):\n",
    "                pos =  a * ((i//n) - ((i//n) >= a)) + ((j // m) - ((j//m) >= a))\n",
    "                if k == 0:\n",
    "                    g[pos][img[i][j][k]] += 1\n",
    "                elif k == 1:\n",
    "                    r[pos][img[i][j][k]] += 1\n",
    "                else:\n",
    "                    b[pos][img[i][j][k]] += 1\n",
    "                hg, hr, hb = g[0], r[0], b[0]\n",
    "\n",
    "    for i in range(1, len(g)):\n",
    "        hg = hg + g[i]\n",
    "\n",
    "    for i in range(1, len(r)):\n",
    "        hr = hr + r[i]\n",
    "\n",
    "    for i in range(1, len(b)):\n",
    "        hb = hb + b[i]\n",
    "\n",
    "    print(len(hg), len(hr), len(hb))\n",
    "    rgb = r+g+b;\n",
    "    ag = open(\"hist_local.txt\", \"w+\")\n",
    "    ag.write(str(rgb))\n",
    "    ag.close()\n",
    "    \n",
    "    return\n",
    "\n",
    "# Tranformadas\n",
    "\n",
    "def explin(img,za,zb,zn,z1):\n",
    "    nimg = img.copy();\n",
    "    for i in range(len(nimg)):\n",
    "        for j in range(len(nimg[0])):\n",
    "            for k in range(3):\n",
    "                if(nimg[i][j][k] <= za):\n",
    "                    nimg[i][j][k] = z1;\n",
    "                elif(nimg[i][j][k] < zb):\n",
    "                    nimg[i][j][k] = (((zn-z1)/(zb-za)) * (nimg[i][j][k]-za)) + z1;\n",
    "                else:\n",
    "                    nimg[i][j][k] = zn;    \n",
    "                \n",
    "    return nimg\n",
    "\n",
    "def rlc(img):\n",
    "    nimg = img.copy();\n",
    "    his  = [0 for i in range(256)];\n",
    "\n",
    "    for i in range(len(nimg)):\n",
    "        for j in range(len(nimg[0])):\n",
    "            for k in range(3):\n",
    "                his[nimg[i][j][k]] += 1;\n",
    "\n",
    "    nhis = [x/(len(nimg)*(len(nimg[0]))*(len(nimg[0][0]))) for x in his];\n",
    "    fhis  = [0.0 for i in range(256)];\n",
    "    fhis[0] = nhis[0];\n",
    "    for i in range(1,256):\n",
    "        fhis[i] = fhis[i-1] + nhis[i];\n",
    "\n",
    "    ifhist = [int(fhis[i]*255+0.5) for i in range(256)];\n",
    "\n",
    "    for i in range(len(nimg)):\n",
    "        for j in range(len(nimg[0])):\n",
    "            for k in range(3):\n",
    "                nimg[i][j][k] = ifhist[nimg[i][j][k]];\n",
    "    return nimg\n",
    "\n",
    "def log(img):\n",
    "    nimg = img.copy()\n",
    "    for i in range(len(nimg)):\n",
    "        for j in range(len(nimg[0])):\n",
    "            for k in range(3):\n",
    "                nimg[i][j][k] = 180*math.log((nimg[i][j][k]+1),10);\n",
    "    return nimg\n",
    "\n",
    "#Filtros\n",
    "    \n",
    "def mean3x3(img,dif):\n",
    "    nimg = img.copy();\n",
    "    for i in range(1,(len(nimg)-1)):\n",
    "        for j in range(1,(len(nimg[0])-1)):\n",
    "            for k in range(3):\n",
    "                neig = nimg[i-1:i+2,j-1:j+2,k]\n",
    "                if((abs(nimg[i][j][k]-neig) > dif).any()):\n",
    "                    nimg[i][j][k] = np.mean(neig);\n",
    "                    \n",
    "    return nimg\n",
    "\n",
    "def median3x3(img,dif):\n",
    "    nimg = img.copy();\n",
    "    for i in range(1,(len(nimg)-1)):\n",
    "        for j in range(1,(len(nimg[0])-1)):\n",
    "            for k in range(3):\n",
    "                neig = nimg[i-1:i+2,j-1:j+2,k]\n",
    "                if((abs(img[i][j][k]-neig) > dif).any()):\n",
    "                    nimg[i][j][k] = np.median(neig);\n",
    "                    \n",
    "    return nimg\n",
    "\n",
    "def minmax(img,dif,func):\n",
    "    nimg = img.copy();\n",
    "    for i in range(1,(len(nimg)-1)):\n",
    "        for j in range(1,(len(nimg[0])-1)):\n",
    "            for k in range(3):\n",
    "                neig = img[i-1:i+2,j-1:j+2,k];\n",
    "                if((abs(img[i][j][k]-neig) > dif).any()):\n",
    "                    nimg[i][j][k] = func(np.concatenate(neig));\n",
    "\n",
    "                   \n",
    "    return nimg\n",
    "\n",
    "def ruido(img, percent,ntype):\n",
    "    nimg = img.copy();\n",
    "    num = int(len(img)*len(img[0])*percent);\n",
    "    while(num>0):\n",
    "        i = random.randint(0,len(img)-1);\n",
    "        j = random.randint(0,(len(img[0])-1));\n",
    "        k = random.randint(0,len(img)-1);\n",
    "        l = random.randint(0,(len(img[0])-1));\n",
    "        if (noise[i][j] != ntype).all():\n",
    "            if(ntype == 2):\n",
    "                nimg[i][j] = 0;\n",
    "                nimg[k][l] = 255;\n",
    "            else:\n",
    "                nimg[i][j] = ntype;\n",
    "        num-=1\n",
    "    return nimg\n",
    "\n",
    "\n",
    "    \n",
    "#Detecção de Bordas \n",
    "\n",
    "def color_quantization(img, K):\n",
    "    Z = img.reshape((-1,3))\n",
    "    Z = np.float32(Z)\n",
    "    criteria = (cv2.TERM_CRITERIA_EPS + cv2.TERM_CRITERIA_MAX_ITER, 10, 1.0)\n",
    "    ret,label,center=cv2.kmeans(Z,K,None,criteria,10,cv2.KMEANS_RANDOM_CENTERS)\n",
    "    center = np.uint8(center)\n",
    "    res = center[label.flatten()]\n",
    "    res2 = res.reshape((img.shape))\n",
    "    return res2\n",
    "\n",
    "def robert_cross(img):\n",
    "    gradient = lambda i,j: np.sqrt(np.square(img[i][j]-img[i+1][j+1]) + np.square(img[i][j+1]-img[i+1][j]))\n",
    "    for i in range(len(img)-1):\n",
    "        for j in range(len(img[0])-1):\n",
    "            img[i][j] = gradient(i,j)\n",
    "    key = cv2.waitKey(0) & 0xFF\n",
    "    return save_image(img)\n",
    "\n",
    "#BIC\n",
    "\n",
    "def bic(img):\n",
    "    colors = {}\n",
    "    img = color_quantization(img, 64)\n",
    "    color = lambda i, j: int(img[i][j][0]) + 4 * int(img[i][j][1]) + 16 * int(img[i][j][2]) #bgr\n",
    "    limiar = lambda i, j: True if color(i,j) == color(i+1,j) == color(i+1, j+1) == color(i,j+1) else False\n",
    "    histI, histB = np.zeros(64), np.zeros(64)\n",
    "    for i in range(len(img) - 1):\n",
    "        for j in range(len(img[0]) - 1):\n",
    "            c = color(i,j)\n",
    "            if not c in colors:\n",
    "                colors[c] = len(colors)\n",
    "            if limiar(i,j):\n",
    "                histI[colors[c]] += 1\n",
    "            else:\n",
    "                histB[colors[c]] += 1\n",
    "    hitzao = np.concatenate(histI,histB);\n",
    "    return hitzao\n",
    "    \n"
   ]
  },
  {
   "cell_type": "markdown",
   "metadata": {},
   "source": [
    "# Questão 1) #"
   ]
  },
  {
   "cell_type": "code",
   "execution_count": 3,
   "metadata": {},
   "outputs": [
    {
     "data": {
      "text/plain": [
       "True"
      ]
     },
     "execution_count": 3,
     "metadata": {},
     "output_type": "execute_result"
    }
   ],
   "source": [
    "img = cv2.imread('cod.webp');\n",
    "nimg = incbri(img,30)\n",
    "cv2.imwrite('cod_bri+.webp',nimg)"
   ]
  },
  {
   "cell_type": "markdown",
   "metadata": {},
   "source": [
    "# Questão 2)"
   ]
  },
  {
   "cell_type": "code",
   "execution_count": 4,
   "metadata": {},
   "outputs": [
    {
     "data": {
      "text/plain": [
       "True"
      ]
     },
     "execution_count": 4,
     "metadata": {},
     "output_type": "execute_result"
    }
   ],
   "source": [
    "img = cv2.imread('cod.webp');\n",
    "nimg = neg(img)\n",
    "cv2.imwrite('cod_neg.webp',nimg)"
   ]
  },
  {
   "cell_type": "markdown",
   "metadata": {},
   "source": [
    "# Questão 3)#"
   ]
  },
  {
   "cell_type": "code",
   "execution_count": 18,
   "metadata": {},
   "outputs": [],
   "source": [
    "img = cv2.imread('cod.webp');\n",
    "hist = histg(img)"
   ]
  },
  {
   "cell_type": "markdown",
   "metadata": {},
   "source": [
    "# Questão 4) #"
   ]
  },
  {
   "cell_type": "code",
   "execution_count": 16,
   "metadata": {},
   "outputs": [
    {
     "name": "stdout",
     "output_type": "stream",
     "text": [
      "Entrada: 3\n",
      "2304 2304 2304\n"
     ]
    }
   ],
   "source": [
    "img = cv2.imread('cod.webp');\n",
    "hist = histlocal(img);"
   ]
  },
  {
   "cell_type": "markdown",
   "metadata": {},
   "source": [
    "# Questão 5) #"
   ]
  },
  {
   "cell_type": "code",
   "execution_count": 10,
   "metadata": {},
   "outputs": [
    {
     "data": {
      "text/plain": [
       "True"
      ]
     },
     "execution_count": 10,
     "metadata": {},
     "output_type": "execute_result"
    }
   ],
   "source": [
    "img = cv2.imread('test.png');\n",
    "nimg = explin(img,190,230,255,0)\n",
    "cv2.imwrite('test_expansão.png',nimg)\n",
    "\n",
    "nimg2 = rlc(img)\n",
    "cv2.imwrite('test_rlc.png',nimg2)\n",
    "\n",
    "nimg3 = log(img)\n",
    "cv2.imwrite('test_log.png',nimg3)"
   ]
  },
  {
   "cell_type": "markdown",
   "metadata": {},
   "source": [
    "# Questão 6) #"
   ]
  },
  {
   "cell_type": "code",
   "execution_count": 19,
   "metadata": {},
   "outputs": [
    {
     "data": {
      "text/plain": [
       "True"
      ]
     },
     "execution_count": 19,
     "metadata": {},
     "output_type": "execute_result"
    }
   ],
   "source": [
    "img = cv2.imread('lena.jpg');\n",
    "saltimage = ruido(img,0.02,255);\n",
    "pepperimage = ruido(img,0.02,0);\n",
    "noise = ruido(img,0.02,2)\n",
    "cv2.imwrite('salt20.jpg',saltimage)\n",
    "cv2.imwrite('pepper20.jpg',pepperimage)\n",
    "cv2.imwrite('noise20.jpg',noise)\n",
    "\n",
    "\n",
    "\n",
    "cv2.imwrite('lena_salt_mean3x3.jpg',mean3x3(saltimage,50))\n",
    "\n",
    "cv2.imwrite('lena_pepper_mean3x3.jpg',mean3x3(pepperimage,25))\n",
    "\n",
    "cv2.imwrite('lena_salt_median3x3.jpg',median3x3(saltimage,50))\n",
    "\n",
    "cv2.imwrite('lena_pepper_median3x3.jpg',median3x3(pepperimage,25))\n",
    "\n",
    "cv2.imwrite('lena_salt_min3x3.jpg',minmax(saltimage,50,min))\n",
    "\n",
    "cv2.imwrite('lena_pepper_max3x3.jpg',minmax(pepperimage,25,max))\n"
   ]
  },
  {
   "cell_type": "markdown",
   "metadata": {},
   "source": [
    "# Questão 7) #"
   ]
  },
  {
   "cell_type": "code",
   "execution_count": 6,
   "metadata": {},
   "outputs": [],
   "source": [
    "img = cv2.imread('lena.jpg');\n",
    "nimg = color_quantization(img, 64);\n",
    "resimg = robert_cross(nimg);\n",
    "cv2.imwrite('lena_border_detection.jpg',resimg);"
   ]
  },
  {
   "cell_type": "markdown",
   "metadata": {},
   "source": [
    "# Questão 8) #"
   ]
  },
  {
   "cell_type": "code",
   "execution_count": 7,
   "metadata": {},
   "outputs": [
    {
     "ename": "TypeError",
     "evalue": "only integer scalar arrays can be converted to a scalar index",
     "output_type": "error",
     "traceback": [
      "\u001b[0;31m---------------------------------------------------------------------------\u001b[0m",
      "\u001b[0;31mTypeError\u001b[0m                                 Traceback (most recent call last)",
      "\u001b[0;32m<ipython-input-7-7e037cc96568>\u001b[0m in \u001b[0;36m<module>\u001b[0;34m\u001b[0m\n\u001b[0;32m----> 1\u001b[0;31m \u001b[0mres2\u001b[0m \u001b[0;34m=\u001b[0m \u001b[0mbic\u001b[0m\u001b[0;34m(\u001b[0m\u001b[0mnimg\u001b[0m\u001b[0;34m)\u001b[0m\u001b[0;34m;\u001b[0m\u001b[0;34m\u001b[0m\u001b[0;34m\u001b[0m\u001b[0m\n\u001b[0m\u001b[1;32m      2\u001b[0m \u001b[0mag\u001b[0m \u001b[0;34m=\u001b[0m \u001b[0mopen\u001b[0m\u001b[0;34m(\u001b[0m\u001b[0;34m\"bic.txt\"\u001b[0m\u001b[0;34m,\u001b[0m \u001b[0;34m\"w+\"\u001b[0m\u001b[0;34m)\u001b[0m\u001b[0;34m\u001b[0m\u001b[0;34m\u001b[0m\u001b[0m\n\u001b[1;32m      3\u001b[0m \u001b[0mag\u001b[0m\u001b[0;34m.\u001b[0m\u001b[0mwrite\u001b[0m\u001b[0;34m(\u001b[0m\u001b[0mstr\u001b[0m\u001b[0;34m(\u001b[0m\u001b[0mres2\u001b[0m\u001b[0;34m)\u001b[0m\u001b[0;34m)\u001b[0m\u001b[0;34m\u001b[0m\u001b[0;34m\u001b[0m\u001b[0m\n\u001b[1;32m      4\u001b[0m \u001b[0mag\u001b[0m\u001b[0;34m.\u001b[0m\u001b[0mclose\u001b[0m\u001b[0;34m(\u001b[0m\u001b[0;34m)\u001b[0m\u001b[0;34m\u001b[0m\u001b[0;34m\u001b[0m\u001b[0m\n",
      "\u001b[0;32m<ipython-input-2-8706bdda2914>\u001b[0m in \u001b[0;36mbic\u001b[0;34m(img)\u001b[0m\n\u001b[1;32m    203\u001b[0m             \u001b[0;32melse\u001b[0m\u001b[0;34m:\u001b[0m\u001b[0;34m\u001b[0m\u001b[0;34m\u001b[0m\u001b[0m\n\u001b[1;32m    204\u001b[0m                 \u001b[0mhistB\u001b[0m\u001b[0;34m[\u001b[0m\u001b[0mcolors\u001b[0m\u001b[0;34m[\u001b[0m\u001b[0mc\u001b[0m\u001b[0;34m]\u001b[0m\u001b[0;34m]\u001b[0m \u001b[0;34m+=\u001b[0m \u001b[0;36m1\u001b[0m\u001b[0;34m\u001b[0m\u001b[0;34m\u001b[0m\u001b[0m\n\u001b[0;32m--> 205\u001b[0;31m     \u001b[0mhitzao\u001b[0m \u001b[0;34m=\u001b[0m \u001b[0mnp\u001b[0m\u001b[0;34m.\u001b[0m\u001b[0mconcatenate\u001b[0m\u001b[0;34m(\u001b[0m\u001b[0mhistI\u001b[0m\u001b[0;34m,\u001b[0m\u001b[0mhistB\u001b[0m\u001b[0;34m)\u001b[0m\u001b[0;34m;\u001b[0m\u001b[0;34m\u001b[0m\u001b[0;34m\u001b[0m\u001b[0m\n\u001b[0m\u001b[1;32m    206\u001b[0m     \u001b[0;32mreturn\u001b[0m \u001b[0mhitzao\u001b[0m\u001b[0;34m\u001b[0m\u001b[0;34m\u001b[0m\u001b[0m\n\u001b[1;32m    207\u001b[0m \u001b[0;34m\u001b[0m\u001b[0m\n",
      "\u001b[0;32m<__array_function__ internals>\u001b[0m in \u001b[0;36mconcatenate\u001b[0;34m(*args, **kwargs)\u001b[0m\n",
      "\u001b[0;31mTypeError\u001b[0m: only integer scalar arrays can be converted to a scalar index"
     ]
    }
   ],
   "source": [
    "res2 = bic(nimg);\n",
    "ag = open(\"bic.txt\", \"w+\")\n",
    "ag.write(str(res2))\n",
    "ag.close()"
   ]
  },
  {
   "cell_type": "code",
   "execution_count": null,
   "metadata": {},
   "outputs": [],
   "source": []
  }
 ],
 "metadata": {
  "kernelspec": {
   "display_name": "Python 3",
   "language": "python",
   "name": "python3"
  },
  "language_info": {
   "codemirror_mode": {
    "name": "ipython",
    "version": 3
   },
   "file_extension": ".py",
   "mimetype": "text/x-python",
   "name": "python",
   "nbconvert_exporter": "python",
   "pygments_lexer": "ipython3",
   "version": "3.6.8"
  }
 },
 "nbformat": 4,
 "nbformat_minor": 2
}
